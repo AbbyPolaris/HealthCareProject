{
 "cells": [
  {
   "cell_type": "markdown",
   "id": "67d535d6",
   "metadata": {},
   "source": [
    "# HeathCare Project\n",
    "\n",
    "hc project by abbas saba negar and mahan."
   ]
  }
 ],
 "metadata": {
  "language_info": {
   "name": "python"
  }
 },
 "nbformat": 4,
 "nbformat_minor": 5
}
